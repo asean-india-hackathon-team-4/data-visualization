{
 "cells": [
  {
   "cell_type": "code",
   "execution_count": 96,
   "metadata": {},
   "outputs": [
    {
     "name": "stdout",
     "output_type": "stream",
     "text": [
      "Requirement already satisfied: gmplot in c:\\programdata\\anaconda3\\lib\\site-packages (1.4.1)\n",
      "Requirement already satisfied: requests in c:\\programdata\\anaconda3\\lib\\site-packages (from gmplot) (2.24.0)\n",
      "Requirement already satisfied: urllib3!=1.25.0,!=1.25.1,<1.26,>=1.21.1 in c:\\programdata\\anaconda3\\lib\\site-packages (from requests->gmplot) (1.25.11)\n",
      "Requirement already satisfied: idna<3,>=2.5 in c:\\programdata\\anaconda3\\lib\\site-packages (from requests->gmplot) (2.10)\n",
      "Requirement already satisfied: chardet<4,>=3.0.2 in c:\\programdata\\anaconda3\\lib\\site-packages (from requests->gmplot) (3.0.4)\n",
      "Requirement already satisfied: certifi>=2017.4.17 in c:\\programdata\\anaconda3\\lib\\site-packages (from requests->gmplot) (2020.6.20)\n"
     ]
    }
   ],
   "source": [
    "# !pip install gmaps\n",
    "!pip install gmplot"
   ]
  },
  {
   "cell_type": "code",
   "execution_count": 112,
   "metadata": {},
   "outputs": [],
   "source": [
    "import pandas as pd\n",
    "import gmaps\n",
    "import gmplot"
   ]
  },
  {
   "cell_type": "code",
   "execution_count": 113,
   "metadata": {},
   "outputs": [],
   "source": [
    "df = pd.read_csv('2016-12-31.csv')"
   ]
  },
  {
   "cell_type": "code",
   "execution_count": 114,
   "metadata": {},
   "outputs": [
    {
     "data": {
      "text/html": [
       "<div>\n",
       "<style scoped>\n",
       "    .dataframe tbody tr th:only-of-type {\n",
       "        vertical-align: middle;\n",
       "    }\n",
       "\n",
       "    .dataframe tbody tr th {\n",
       "        vertical-align: top;\n",
       "    }\n",
       "\n",
       "    .dataframe thead th {\n",
       "        text-align: right;\n",
       "    }\n",
       "</style>\n",
       "<table border=\"1\" class=\"dataframe\">\n",
       "  <thead>\n",
       "    <tr style=\"text-align: right;\">\n",
       "      <th></th>\n",
       "      <th>date</th>\n",
       "      <th>lat_bin</th>\n",
       "      <th>lon_bin</th>\n",
       "      <th>flag</th>\n",
       "      <th>geartype</th>\n",
       "      <th>vessel_hours</th>\n",
       "      <th>fishing_hours</th>\n",
       "      <th>mmsi_present</th>\n",
       "    </tr>\n",
       "  </thead>\n",
       "  <tbody>\n",
       "    <tr>\n",
       "      <th>0</th>\n",
       "      <td>2016-12-31</td>\n",
       "      <td>-1261</td>\n",
       "      <td>1320</td>\n",
       "      <td>AGO</td>\n",
       "      <td>purse_seines</td>\n",
       "      <td>9.692361</td>\n",
       "      <td>0.0</td>\n",
       "      <td>1</td>\n",
       "    </tr>\n",
       "    <tr>\n",
       "      <th>1</th>\n",
       "      <td>2016-12-31</td>\n",
       "      <td>-991</td>\n",
       "      <td>1275</td>\n",
       "      <td>AGO</td>\n",
       "      <td>trawlers</td>\n",
       "      <td>0.191389</td>\n",
       "      <td>0.0</td>\n",
       "      <td>1</td>\n",
       "    </tr>\n",
       "    <tr>\n",
       "      <th>2</th>\n",
       "      <td>2016-12-31</td>\n",
       "      <td>-990</td>\n",
       "      <td>1274</td>\n",
       "      <td>AGO</td>\n",
       "      <td>trawlers</td>\n",
       "      <td>0.233611</td>\n",
       "      <td>0.0</td>\n",
       "      <td>1</td>\n",
       "    </tr>\n",
       "    <tr>\n",
       "      <th>3</th>\n",
       "      <td>2016-12-31</td>\n",
       "      <td>-985</td>\n",
       "      <td>1272</td>\n",
       "      <td>AGO</td>\n",
       "      <td>trawlers</td>\n",
       "      <td>0.310000</td>\n",
       "      <td>0.0</td>\n",
       "      <td>1</td>\n",
       "    </tr>\n",
       "    <tr>\n",
       "      <th>4</th>\n",
       "      <td>2016-12-31</td>\n",
       "      <td>-982</td>\n",
       "      <td>1271</td>\n",
       "      <td>AGO</td>\n",
       "      <td>trawlers</td>\n",
       "      <td>0.235972</td>\n",
       "      <td>0.0</td>\n",
       "      <td>1</td>\n",
       "    </tr>\n",
       "  </tbody>\n",
       "</table>\n",
       "</div>"
      ],
      "text/plain": [
       "         date  lat_bin  lon_bin flag      geartype  vessel_hours  \\\n",
       "0  2016-12-31    -1261     1320  AGO  purse_seines      9.692361   \n",
       "1  2016-12-31     -991     1275  AGO      trawlers      0.191389   \n",
       "2  2016-12-31     -990     1274  AGO      trawlers      0.233611   \n",
       "3  2016-12-31     -985     1272  AGO      trawlers      0.310000   \n",
       "4  2016-12-31     -982     1271  AGO      trawlers      0.235972   \n",
       "\n",
       "   fishing_hours  mmsi_present  \n",
       "0            0.0             1  \n",
       "1            0.0             1  \n",
       "2            0.0             1  \n",
       "3            0.0             1  \n",
       "4            0.0             1  "
      ]
     },
     "execution_count": 114,
     "metadata": {},
     "output_type": "execute_result"
    }
   ],
   "source": [
    "df.head()"
   ]
  },
  {
   "cell_type": "code",
   "execution_count": 115,
   "metadata": {},
   "outputs": [],
   "source": [
    "df.lat_bin = df.lat_bin/100\n",
    "df.lon_bin = df.lon_bin/100"
   ]
  },
  {
   "cell_type": "code",
   "execution_count": 116,
   "metadata": {},
   "outputs": [],
   "source": [
    "lat = df.lat_bin.to_numpy()\n",
    "lon = df.lon_bin.to_numpy()"
   ]
  },
  {
   "cell_type": "code",
   "execution_count": 117,
   "metadata": {},
   "outputs": [],
   "source": [
    "# declare the center of the map, and how much we want the map zoomed in\n",
    "gmap = gmplot.GoogleMapPlotter(0, 0, 2)\n",
    "# plot heatmap\n",
    "gmap.heatmap(lat,lon)"
   ]
  },
  {
   "cell_type": "code",
   "execution_count": 118,
   "metadata": {},
   "outputs": [],
   "source": [
    "gmap.draw(\"Fishing_heatmap2016.html\")"
   ]
  }
 ],
 "metadata": {
  "kernelspec": {
   "display_name": "Python 3",
   "language": "python",
   "name": "python3"
  },
  "language_info": {
   "codemirror_mode": {
    "name": "ipython",
    "version": 3
   },
   "file_extension": ".py",
   "mimetype": "text/x-python",
   "name": "python",
   "nbconvert_exporter": "python",
   "pygments_lexer": "ipython3",
   "version": "3.8.5"
  }
 },
 "nbformat": 4,
 "nbformat_minor": 4
}
